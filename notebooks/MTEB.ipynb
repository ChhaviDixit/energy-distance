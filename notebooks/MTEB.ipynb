{
 "cells": [
  {
   "cell_type": "code",
   "execution_count": null,
   "metadata": {},
   "outputs": [],
   "source": [
    "import sys\n",
    "import os"
   ]
  },
  {
   "cell_type": "markdown",
   "metadata": {},
   "source": [
    "Install basic python requirements"
   ]
  },
  {
   "cell_type": "code",
   "execution_count": null,
   "metadata": {},
   "outputs": [],
   "source": [
    "%pip install -r ../requirements.txt --quiet"
   ]
  },
  {
   "cell_type": "markdown",
   "metadata": {},
   "source": [
    "Clone version of mteb-evaluator that includes energy distance implementation."
   ]
  },
  {
   "cell_type": "code",
   "execution_count": null,
   "metadata": {},
   "outputs": [],
   "source": [
    "!git clone https://github.com/gnatesan/mteb-evaluator "
   ]
  },
  {
   "cell_type": "markdown",
   "metadata": {},
   "source": [
    "Install custom mteb-evaluator using `pip`"
   ]
  },
  {
   "cell_type": "code",
   "execution_count": null,
   "metadata": {
    "colab": {
     "base_uri": "https://localhost:8080/"
    },
    "id": "IhOoCN1nk59L",
    "outputId": "1cdc8398-7c7f-4bee-f9a8-f90d4ec3371e"
   },
   "outputs": [],
   "source": [
    "%cd mteb-evaluator\n",
    "%pip install --upgrade pip --quiet\n",
    "%pip install . --quiet\n",
    "%cd .."
   ]
  },
  {
   "cell_type": "code",
   "execution_count": null,
   "metadata": {
    "id": "Kz305zbJWLz1"
   },
   "outputs": [],
   "source": [
    "sys.path.append(f'{os.getcwd()}/mteb-evaluator/mteb')"
   ]
  },
  {
   "cell_type": "code",
   "execution_count": null,
   "metadata": {
    "colab": {
     "base_uri": "https://localhost:8080/",
     "height": 1000,
     "referenced_widgets": [
      "2028480d9135433fab5d32e770881da0",
      "2d91e0b249da494484c25eef263d8cdb",
      "73616719cdb44ff9ab02e12226d16bc7",
      "8f3b757e795b4f91bf251513bdf851ba",
      "f626777dae1e4984ba5e6c0b07d06a15",
      "d6d3e6e49c6a42c4bf7dc553fb18ca67",
      "4bb2daf837034b1b938fb4852e1fa44a",
      "ae3330431dee4f9b9b1c467f1d539dda",
      "faa3cb1862724df1bcf384f101b163a1",
      "741aed03906144009c3aab8df621d2e3",
      "7b6ae5613aaf4467b00c5f03cbedcc4e",
      "a67dfcb7629f4fbba71062214a4e9eee",
      "a7fdb1a3f6b64c27b028cba77ff6ee07",
      "6b302b101805467f8806f47e5f494522",
      "da1f30609ce94622bf98b6ddf3716197",
      "e9ab9029852c4e71b2efd417b585b8c6",
      "9a1156c2136a4945981a771669f5a8aa",
      "2211658ab2954ff5ace3060d8ba01ddb",
      "a325a2422d974cefb463f9f54e886fd1",
      "ef3871b1a1fe49fb9e427be60b793e0f",
      "660d920d5a314e22b7117015b9a6a59c",
      "cfb3b625416b4251836ebcd85c59d6f2",
      "9cbb483d89144e96afaddfe65b948fdd",
      "c017a554497e46e582d79c612b2fc28f",
      "41384bed33664740828303e9d29555d1",
      "f285e2fc1b7b4692bd3af4ae85202c16",
      "13cea8cce34d47068b1148851eeaea1f",
      "3659fd228a5a46298afc79f4d35a0404",
      "647381ca3dce4a349d7551c90ebe782b",
      "30903b77237d489d93b624a09a5bb4d5",
      "db659fb1d1b34e7788a21bcc0c5d398c",
      "03c057bbb98747c1a09df9bba12e6039",
      "54e6626f898945548c1c7c795890f851",
      "f788d4c0d8f044e7a1cf4aaabdc4191f",
      "d242a1d2c964499dbfe5fb6724362d90",
      "4250ee33b6df4e69bc8d8dc67b217969",
      "5ec585b7874347f79bae5d266b1d87bd",
      "8194ef227133443a95bc26f199741089",
      "73a203beab2d4f4e944762b1815c82ac",
      "b23a5dc3d61f4b28bb757af4c2b4215e",
      "8db079beca2c4944af9817255e1ebff9",
      "7cb4adf1a3484a97932aaa60b8e08a43",
      "c013a18e452b43d38eb9fd3cd6935082",
      "d59835874fbe4ad0905e443ea1bd3480",
      "d83c4d3f410b40a4a1d826189065946e",
      "b2d5231963f8454088cded981c411e2c",
      "5d18165a21344b9d86b597c667b85b37",
      "7d82360326f748b6a6723644303dfd21",
      "b4a009c265fe47d4b6e72e83f597f7ba",
      "05819ca147cd41b9972b75bb4c71b87f",
      "482764e006b64252aee85cf6063dac36",
      "1d72d3c9cc114ff3b6f11b4935e2dd0c",
      "03785a425a0d47d1ab042a5b6ef67e82",
      "7500850e4fd44847af9a185387d835c9",
      "21689fa2b4614c9d8ea197bf93ebf906",
      "ee88198b068445c1a6e1e715d6bebcef",
      "ff2b82b2ac404ae193f159d46e7862fb",
      "34e895e3a9b348b7a1b49b9a7df33ed3",
      "4c2abfb40b7e4afa8293ce6ed463decb",
      "14699cbdf9f8466086071cebaffcf893",
      "6158aa29aece4f939141e162430e2a84",
      "1af5f3bc06184b05b35b8181f2cde6ba",
      "f0c29833aff346359a6f2a39f88a3f83",
      "ffa332fe430345bd9574193d1f4fda03",
      "ba8c0b4134704e12b69ad1ec856cf67d",
      "0478666f86a64719adb1797867dc192d",
      "f2091f6704d3479a8ef94c7261e3b4e4",
      "cf46a8182c3e487a80a681e8d5fd6a73",
      "af03137dacba4eb4b9d35c6c3fc4b23d",
      "1a2b681a17bb40ba9fbf24a9400ebab8",
      "6e8db594db7f4b98910ad33fcee614a1",
      "8e3e84861d854047b48a3b1efe10c5e2",
      "4e74b308f9d346e6b62f26d439379918",
      "3d27c27dd9384b5bac5cb59e7c279299",
      "e5e2498bd60e40f4a71e2cd2c6eaf184",
      "fa6eb92afd4942a0bac1e4710b168e03",
      "3901cec5970741ae9639ff8579100c43",
      "3264c4fd4eb146c7a35ad5e4915503e9",
      "076e4c094ed2488d94b431a528dd9ce3",
      "d9186218e4434ed2bbccba37430467ff",
      "a18279820b7c455194d0f9c8750a551f",
      "9856f4500cea4d12a0f68cd7883ccb5b",
      "dfd7694b5bb445cbbb78fd43577c6d75",
      "f09c2231c6c0411abed74f0d60da2584",
      "31b8a89b81bd49ef946fd1b056881197",
      "35409f2004104c70b28bfa5cdb167bf0",
      "fb64ccae005c4157bff32a0c8f42cafc",
      "540aa0e2ab114c46943eeca96cffc59b",
      "296c0e6947b84be5b3830c2cf81cf8f2",
      "67fb7ef79ad6484e953778909b8a65c1",
      "7b5aae4d02b944e7bd45cd38aa3ddba1",
      "e4e13fce987d44f596ce94ae0da5543f",
      "d5b12f8fb5b94c0b8ecfaaade4ead572",
      "397c08ee4ab04c919fa5785f8a9a2cb5",
      "838a4c85b2cb4d508240f0ae9498cff3",
      "62a9a3d6d75743c6ad31e25d4257f1c9",
      "99febe33340c48499ca5c6ce75732664",
      "f02f7ac0a2ce42b089e2bbec48513104",
      "33eadd0023f74d03a0281c240650cabd",
      "89f195e2f3354b81b520eee16e5f7d05",
      "4860b11e2da14ea19dde3651edae018b",
      "7635148ea75c4549b87747a99117868f",
      "68e62e95da46426894157f10e0b88935",
      "91fd8474213c4992b35f0bcdd5a92c62",
      "a0f27a07ee8b4a45a9d9a5e999c9f649",
      "5e40b91f8e304090bd2d6283a819a3cc",
      "9678cd7d8a514a8895d36e5cf6d8fe65",
      "a8c363cc11be4e1ab9314ca72a86182f",
      "bd5453feda9c4987b844a695acc46d39",
      "220f075359fb4116ab41f819e7a709a5",
      "c0ffebb48c1a4fcaa5b2a52be7d77fae",
      "f3403e1861c3412a897f0df0a3149e62",
      "919b2a9cdcb8437780e6f1bc8d631010",
      "6fc58c77ea734fb1a4b7a582bfe9c5db",
      "f8e339b953b94738aea641c083f36c5f",
      "6a3a7c47852d4cacad3e973824d8b776",
      "4f4d545abe434483a3e77e814048ba20",
      "8cb2319e5598461aa73949afb31846eb",
      "91f96c8e4ef6417a86067ac7b37c9b91",
      "dba749dbc0784dc1b97c89289aa8ad11",
      "505d9cc9c2524013b0e7d756e630fc35",
      "c56c579e86934d0db021b43e7b495ec1",
      "88703250994d4290aff1ea9eb3c8ba7a",
      "eddf673652444ea799ce93cb01a07d9c",
      "6c477db41fc942db853de2930690cdc0",
      "297d4bcace1b4fa293e5269961998c1e",
      "d908cddc69834d66b17f4f80131461ad",
      "5631c0baa3f142989f46fe33ea22f2a6",
      "94c924667d694fc0ab089662c60d93c3",
      "3602429af6a94386adc0dcbdc67d30db",
      "18b6d0b1c13743fe86850d73ad00de57",
      "df4827055e7e42c99e0bbfe84138f3da"
     ]
    },
    "id": "tER3g3oSkFu-",
    "outputId": "ab9d1455-d7ae-4142-99de-c04c0580423c"
   },
   "outputs": [],
   "source": [
    "from mteb import MTEB\n",
    "from sentence_transformers import SentenceTransformer\n",
    "\n",
    "# Define the sentence-transformers model name\n",
    "model_name = \"mxbai-embed-large-v1\"\n",
    "\n",
    "model = SentenceTransformer(\"mixedbread-ai/mxbai-embed-large-v1\")\n",
    "evaluation = MTEB(tasks=[\"ArguAna\"])\n",
    "results = evaluation.run(model, eval_splits=[\"test\"], output_folder=f\"results/{model_name}\")"
   ]
  }
 ],
 "metadata": {
  "colab": {
   "provenance": []
  },
  "kernelspec": {
   "display_name": "Python 3",
   "name": "python3"
  },
  "language_info": {
   "codemirror_mode": {
    "name": "ipython",
    "version": 3
   },
   "file_extension": ".py",
   "mimetype": "text/x-python",
   "name": "python",
   "nbconvert_exporter": "python",
   "pygments_lexer": "ipython3",
   "version": "3.8.10"
  }
 },
 "nbformat": 4,
 "nbformat_minor": 0
}
